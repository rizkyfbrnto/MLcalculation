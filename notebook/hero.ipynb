version https://git-lfs.github.com/spec/v1
oid sha256:98c76dba2efe1013ee309b68592c5bfac2f96111c07780a08500c354f275e518
size 584182
